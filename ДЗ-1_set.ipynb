{
 "cells": [
  {
   "cell_type": "markdown",
   "metadata": {},
   "source": [
    "Даны три множества a,b и с. Необходимо выполнить все изученные виды бинарных операций над всеми комбинациями множеств.\n",
    "\n",
    "*Выполнить задание 1 на языке Python"
   ]
  },
  {
   "cell_type": "code",
   "execution_count": null,
   "metadata": {},
   "outputs": [],
   "source": [
    "a = {1, 2, 3}\n",
    "b = {3, 4, 5}\n",
    "c = {5, 6, 7}\n",
    "\n",
    "type(a), type(b), type(c)"
   ]
  },
  {
   "cell_type": "code",
   "execution_count": 11,
   "metadata": {},
   "outputs": [
    {
     "name": "stdout",
     "output_type": "stream",
     "text": [
      "{1, 2, 3, 4, 5, 6, 7}\n",
      "{1, 2, 3, 4, 5, 6, 7}\n",
      "{1, 2, 3, 4, 5, 6, 7}\n",
      "{1, 2, 3, 4, 5, 6, 7}\n",
      "{1, 2, 3, 4, 5, 6, 7}\n",
      "{1, 2, 3, 4, 5, 6, 7}\n"
     ]
    }
   ],
   "source": [
    "#Объединение\n",
    "print(a | b | c)\n",
    "print(a | c | b)\n",
    "print(b | a | c)\n",
    "print(b | c | a)\n",
    "print(c | a | b)\n",
    "print(c | b | a)"
   ]
  },
  {
   "cell_type": "code",
   "execution_count": 18,
   "metadata": {},
   "outputs": [
    {
     "name": "stdout",
     "output_type": "stream",
     "text": [
      "set()\n",
      "set()\n",
      "set()\n",
      "set()\n",
      "set()\n",
      "set()\n"
     ]
    }
   ],
   "source": [
    "# Пересеение\n",
    "print(a & b & c)\n",
    "print(a & c & b)\n",
    "print(b & a & c)\n",
    "print(b & c & a)\n",
    "print(c & a & b)\n",
    "print(c & b & a)"
   ]
  },
  {
   "cell_type": "code",
   "execution_count": 13,
   "metadata": {},
   "outputs": [
    {
     "name": "stdout",
     "output_type": "stream",
     "text": [
      "{1, 2}\n",
      "{1, 2}\n",
      "{4}\n",
      "{4}\n",
      "{6, 7}\n",
      "{6, 7}\n"
     ]
    }
   ],
   "source": [
    "# Разность\n",
    "print(a - b - c)\n",
    "print(a - c - b)\n",
    "print(b - a - c)\n",
    "print(b - c - a)\n",
    "print(c - a - b)\n",
    "print(c - b - a)"
   ]
  },
  {
   "cell_type": "code",
   "execution_count": 14,
   "metadata": {},
   "outputs": [
    {
     "name": "stdout",
     "output_type": "stream",
     "text": [
      "{1, 2, 4, 6, 7}\n",
      "{1, 2, 4, 6, 7}\n",
      "{1, 2, 4, 6, 7}\n",
      "{1, 2, 4, 6, 7}\n",
      "{1, 2, 4, 6, 7}\n",
      "{1, 2, 4, 6, 7}\n"
     ]
    }
   ],
   "source": [
    "# Симметрическая разность.\n",
    "print(a ^ b ^ c)\n",
    "print(a ^ c ^ b)\n",
    "print(b ^ a ^ c)\n",
    "print(b ^ c ^ a)\n",
    "print(c ^ a ^ b)\n",
    "print(c ^ b ^ a)"
   ]
  }
 ],
 "metadata": {
  "kernelspec": {
   "display_name": "Python 3",
   "language": "python",
   "name": "python3"
  },
  "language_info": {
   "codemirror_mode": {
    "name": "ipython",
    "version": 3
   },
   "file_extension": ".py",
   "mimetype": "text/x-python",
   "name": "python",
   "nbconvert_exporter": "python",
   "pygments_lexer": "ipython3",
   "version": "3.7.1"
  }
 },
 "nbformat": 4,
 "nbformat_minor": 2
}
